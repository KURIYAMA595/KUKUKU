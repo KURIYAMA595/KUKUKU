{
 "cells": [
  {
   "cell_type": "markdown",
   "id": "d989dcf1-b0d0-4c70-878a-4b2d91f0b8b6",
   "metadata": {},
   "source": [
    "**结巴分词实践**"
   ]
  },
  {
   "cell_type": "code",
   "execution_count": 1,
   "id": "24fa5d86-5a22-4c3d-8576-293800b9ea67",
   "metadata": {
    "collapsed": true,
    "jupyter": {
     "outputs_hidden": true,
     "source_hidden": true
    }
   },
   "outputs": [
    {
     "name": "stderr",
     "output_type": "stream",
     "text": [
      "Import error, cannot find paddle.fluid and jieba.lac_small.predict module. Now, back to jieba basic cut......\n",
      "[2025-03-20 10:40:31,273] [   DEBUG] _compat.py:50 - Import error, cannot find paddle.fluid and jieba.lac_small.predict module. Now, back to jieba basic cut......\n",
      "Building prefix dict from the default dictionary ...\n",
      "[2025-03-20 10:40:31,273] [   DEBUG] __init__.py:113 - Building prefix dict from the default dictionary ...\n",
      "Loading model from cache C:\\Users\\kuriyama\\AppData\\Local\\Temp\\jieba.cache\n",
      "[2025-03-20 10:40:31,275] [   DEBUG] __init__.py:132 - Loading model from cache C:\\Users\\kuriyama\\AppData\\Local\\Temp\\jieba.cache\n",
      "Loading model cost 0.364 seconds.\n",
      "[2025-03-20 10:40:31,639] [   DEBUG] __init__.py:164 - Loading model cost 0.364 seconds.\n",
      "Prefix dict has been built successfully.\n",
      "[2025-03-20 10:40:31,640] [   DEBUG] __init__.py:166 - Prefix dict has been built successfully.\n"
     ]
    },
    {
     "name": "stdout",
     "output_type": "stream",
     "text": [
      "Paddle Mode: 我/来到/北京/清华大学\n",
      "Paddle Mode: 乒乓球/拍卖/完/了\n",
      "Paddle Mode: 中国/科学技术/大学\n",
      "Full Mode: 我/ 来到/ 北京/ 清华/ 清华大学/ 华大/ 大学\n",
      "Default Mode: 我/ 来到/ 北京/ 清华大学\n",
      "他, 来到, 了, 网易, 杭研, 大厦\n",
      "小明, 硕士, 毕业, 于, 中国, 科学, 学院, 科学院, 中国科学院, 计算, 计算所, ，, 后, 在, 日本, 京都, 大学, 日本京都大学, 深造\n"
     ]
    }
   ],
   "source": [
    "\n",
    "import jieba\n",
    "\n",
    "jieba.enable_paddle()\n",
    "strs=[\"我来到北京清华大学\",\"乒乓球拍卖完了\",\"中国科学技术大学\"]\n",
    "for str in strs:\n",
    "    seg_list = jieba.cut(str,use_paddle=True) # 使用paddle模式\n",
    "    print(\"Paddle Mode: \" + '/'.join(list(seg_list)))\n",
    "\n",
    "seg_list = jieba.cut(\"我来到北京清华大学\", cut_all=True)\n",
    "print(\"Full Mode: \" + \"/ \".join(seg_list))  # 全模式\n",
    "\n",
    "seg_list = jieba.cut(\"我来到北京清华大学\", cut_all=False)\n",
    "print(\"Default Mode: \" + \"/ \".join(seg_list))  # 精确模式\n",
    "\n",
    "seg_list = jieba.cut(\"他来到了网易杭研大厦\")  # 默认是精确模式\n",
    "print(\", \".join(seg_list))\n",
    "\n",
    "seg_list = jieba.cut_for_search(\"小明硕士毕业于中国科学院计算所，后在日本京都大学深造\")  # 搜索引擎模式\n",
    "print(\", \".join(seg_list))"
   ]
  },
  {
   "cell_type": "markdown",
   "id": "cf0a7ad4-4995-4cd7-85a2-1fe85f0419f8",
   "metadata": {},
   "source": [
    ">**结巴分词的三种模式**"
   ]
  },
  {
   "cell_type": "markdown",
   "id": "fe3e6f9b-d80e-487c-9b2c-0430e2aa0567",
   "metadata": {},
   "source": [
    ">>**精确模式**"
   ]
  },
  {
   "cell_type": "code",
   "execution_count": 5,
   "id": "c84ac006-a7d3-444f-b6b3-48e56d5fcd9a",
   "metadata": {
    "collapsed": true,
    "jupyter": {
     "outputs_hidden": true
    }
   },
   "outputs": [
    {
     "name": "stdout",
     "output_type": "stream",
     "text": [
      "Default Mode: 我/ 来到/ 北京/ 清华大学\n"
     ]
    }
   ],
   "source": [
    "import jieba\n",
    "seg_list = jieba.cut(\"我来到北京清华大学\", cut_all=False)\n",
    "print(\"Default Mode: \" + \"/ \".join(seg_list))  # 精确模式"
   ]
  },
  {
   "cell_type": "markdown",
   "id": "2acff64a-cc54-48e7-9e5b-d33eac7bd290",
   "metadata": {},
   "source": [
    ">>**全模式**"
   ]
  },
  {
   "cell_type": "code",
   "execution_count": 6,
   "id": "7c676f42-c836-4e80-b64d-a0c5cef5bff0",
   "metadata": {
    "collapsed": true,
    "jupyter": {
     "outputs_hidden": true
    }
   },
   "outputs": [
    {
     "name": "stdout",
     "output_type": "stream",
     "text": [
      "Full Mode: 我/ 来到/ 北京/ 清华/ 清华大学/ 华大/ 大学\n"
     ]
    }
   ],
   "source": [
    "import jieba\n",
    "seg_list = jieba.cut(\"我来到北京清华大学\", cut_all=True)\n",
    "print(\"Full Mode: \" + \"/ \".join(seg_list))  # 全模式"
   ]
  },
  {
   "cell_type": "markdown",
   "id": "36cafad4-82a1-420f-b621-5f1d08728f2d",
   "metadata": {},
   "source": [
    ">>**搜索引擎模式**"
   ]
  },
  {
   "cell_type": "code",
   "execution_count": 7,
   "id": "e0da5be6-a2b6-447b-ae8a-ec0a81682cb5",
   "metadata": {
    "collapsed": true,
    "jupyter": {
     "outputs_hidden": true
    }
   },
   "outputs": [
    {
     "name": "stdout",
     "output_type": "stream",
     "text": [
      "小明, 硕士, 毕业, 于, 中国, 科学, 学院, 科学院, 中国科学院, 计算, 计算所, ，, 后, 在, 日本, 京都, 大学, 日本京都大学, 深造\n"
     ]
    }
   ],
   "source": [
    "import jieba\n",
    "seg_list = jieba.cut_for_search(\"小明硕士毕业于中国科学院计算所，后在日本京都大学深造\")  # 搜索引擎模式\n",
    "print(\", \".join(seg_list))"
   ]
  },
  {
   "cell_type": "markdown",
   "id": "fbbf2849-8691-4701-9d1a-fac5546d1f6d",
   "metadata": {},
   "source": [
    "**自定义目录**"
   ]
  },
  {
   "cell_type": "code",
   "execution_count": 20,
   "id": "fe34661a-ccfd-4e52-9458-453e895214e2",
   "metadata": {
    "collapsed": true,
    "jupyter": {
     "outputs_hidden": true,
     "source_hidden": true
    },
    "scrolled": true
   },
   "outputs": [
    {
     "name": "stdout",
     "output_type": "stream",
     "text": [
      "Theresa/是/是/萨卡兹六英雄/之一/;/ /击败/三国联军/后/成为/卡兹戴尔/的/统治者/\n",
      "/Kal_tsit/又名/Ama-10/，/预见/末日/的/贤人/，/前/卡兹戴尔/勋爵/，/前/巴别塔/成员/兼/创始人/之一/，/罗德岛/高层/管理人员/之一/\n",
      "/Rhodes_Island/对外/声称/是/一家/制药公司/，/但/实际上/是/混合/了/感染者/成员/在内/，/拥有/完整/独立/武装力量/与/矿石感染研究/与/检疫手段/的/一个/组织/，/是/感染者问题/的/专家\n",
      "========================================\n",
      "Theresa / x ,  是 / v ,  是 / v ,  萨卡兹六英雄 / x ,  之一 / r ,  ; / x ,    / x ,  击败 / v ,  三国联军 / x ,  后 / f ,  成为 / v ,  卡兹戴尔 / x ,  的 / uj ,  统治者 / n ,  \n",
      " / x ,  Kal_tsit / x ,  又名 / n ,  Ama / eng ,  - / x ,  10 / m ,  ， / x ,  预见 / v ,  末日 / t ,  的 / uj ,  贤人 / n ,  ， / x ,  前 / f ,  卡兹戴尔 / x ,  勋爵 / n ,  ， / x ,  前 / f ,  巴别塔 / x ,  成员 / n ,  兼 / v ,  创始人 / n ,  之一 / r ,  ， / x ,  罗德岛 / nr ,  高层 / n ,  管理人员 / n ,  之一 / r ,  \n",
      " / x ,  Rhodes_Island / x ,  对外 / s ,  声称 / n ,  是 / v ,  一家 / m ,  制药公司 / x ,  ， / x ,  但 / c ,  实际上 / d ,  是 / v ,  混合 / vn ,  了 / ul ,  感染者 / n ,  成员 / n ,  在内 / u ,  ， / x ,  拥有 / v ,  完整 / a ,  独立 / v ,  武装力量 / l ,  与 / p ,  矿石感染研究 / x ,  与 / p ,  检疫手段 / x ,  的 / uj ,  一个 / m ,  组织 / v ,  ， / x ,  是 / v ,  感染者问题 / x ,  的 / uj ,  专家 / n ,  ========================================\n",
      "今天/天气/不错\n",
      "今天天气 Before: 0, After: 0\n",
      "今天/天气/不错\n",
      "----------------------------------------\n",
      "如果/放到/post/中/将/出错/。\n",
      "中将 Before: 494, After: 494\n",
      "如果/放到/post/中/将/出错/。\n",
      "----------------------------------------\n",
      "我们/中/出/了/一个/叛徒\n",
      "中出 Before: 3, After: 3\n",
      "我们/中/出/了/一个/叛徒\n",
      "----------------------------------------\n"
     ]
    }
   ],
   "source": [
    "#encoding=utf-8\n",
    "from __future__ import print_function, unicode_literals\n",
    "import sys\n",
    "sys.path.append(\"../\")\n",
    "import jieba\n",
    "jieba.load_userdict(\"userdict.txt\")\n",
    "import jieba.posseg as pseg\n",
    "\n",
    "jieba.add_word('Theresa')      \n",
    "jieba.add_word('amiya')\n",
    "jieba.del_word('11')   \n",
    "\n",
    "test_sent = (\n",
    "\"Theresa是是萨卡兹六英雄之一; 击败三国联军后成为卡兹戴尔的统治者\\n\"\n",
    "\"Kal_tsit又名Ama-10，预见末日的贤人，前卡兹戴尔勋爵，前巴别塔成员兼创始人之一，罗德岛高层管理人员之一\\n\"\n",
    "\"Rhodes_Island对外声称是一家制药公司，但实际上是混合了感染者成员在内，拥有完整独立武装力量与矿石感染研究与检疫手段的一个组织，是感染者问题的专家\"\n",
    ")\n",
    "words = jieba.cut(test_sent)\n",
    "print('/'.join(words))\n",
    "\n",
    "print(\"=\"*40)\n",
    "\n",
    "for w in result:\n",
    "    print(w.word, \"/\", w.flag, \", \", end=' ')\n",
    "\n",
    "print(\"=\"*40)\n",
    "\n",
    "result = pseg.cut(test_sent)\n",
    "\n",
    "\n",
    "result = pseg.cut(test_sent)\n",
    "\n",
    "for sent, seg in testlist:\n",
    "    print('/'.join(jieba.cut(sent, HMM=False)))\n",
    "    word = ''.join(seg)\n",
    "    print('%s Before: %s, After: %s' % (word, jieba.get_FREQ(word), jieba.suggest_freq(seg, True)))\n",
    "    print('/'.join(jieba.cut(sent, HMM=False)))\n",
    "    print(\"-\"*40)"
   ]
  },
  {
   "cell_type": "markdown",
   "id": "41744e2f-20ec-469f-bcb6-1a627bb31348",
   "metadata": {},
   "source": [
    "**载入词典**"
   ]
  },
  {
   "cell_type": "code",
   "execution_count": 22,
   "id": "f35319d1-201c-4a5c-befd-97c54a552e70",
   "metadata": {
    "collapsed": true,
    "jupyter": {
     "outputs_hidden": true,
     "source_hidden": true
    }
   },
   "outputs": [
    {
     "name": "stdout",
     "output_type": "stream",
     "text": [
      "Default Mode:Theresa/要/将/萨卡兹/身上/历史/的/枷锁/丢掉/，/从/无尽/的/仇恨/与/战争/中/解放\n"
     ]
    }
   ],
   "source": [
    "jieba.load_userdict(\"userdict.txt\")\n",
    "seg_list = jieba.cut(\"Theresa要将萨卡兹身上历史的枷锁丢掉，从无尽的仇恨与战争中解放\",cut_all=False,HMM=False)\n",
    "print(\"Default Mode:\"+\"/\".join(seg_list))"
   ]
  },
  {
   "cell_type": "markdown",
   "id": "73dfce13-040b-4c20-be74-4c579198c62a",
   "metadata": {},
   "source": [
    "**关键词提取**"
   ]
  },
  {
   "cell_type": "code",
   "execution_count": 1,
   "id": "4e6f9207-16af-41c9-95ed-5d90f1942be8",
   "metadata": {},
   "outputs": [
    {
     "name": "stderr",
     "output_type": "stream",
     "text": [
      "Building prefix dict from the default dictionary ...\n",
      "Loading model from cache C:\\Users\\kuriyama\\AppData\\Local\\Temp\\jieba.cache\n"
     ]
    },
    {
     "name": "stdout",
     "output_type": "stream",
     "text": [
      "========================================\n",
      "3. 关键词提取\n",
      "----------------------------------------\n",
      " TF-IDF\n",
      "----------------------------------------\n"
     ]
    },
    {
     "name": "stderr",
     "output_type": "stream",
     "text": [
      "Loading model cost 0.357 seconds.\n",
      "Prefix dict has been built successfully.\n"
     ]
    },
    {
     "name": "stdout",
     "output_type": "stream",
     "text": [
      "河北省人民政府 0.47415056901111113\n",
      "一流大学 0.4634956774407407\n",
      "燕山大学 0.4427691667740741\n",
      "学科建设 0.42955898366666667\n",
      "大学 0.4232750535222222\n",
      "国防科技 0.40035685920740743\n",
      "工业局 0.3901252526666667\n",
      "重点 0.3890838260844444\n",
      "共建 0.34656973591518514\n",
      "高科 0.3149079611281482\n",
      "教育部 0.3118532862455556\n",
      "高校 0.2988442657292593\n",
      "国家 0.29632928830814814\n",
      "一流 0.29368206711814815\n",
      "四方 0.290514579212963\n",
      "信息化 0.28711886503925926\n",
      "河北省 0.28680365431074073\n",
      "联盟 0.2550319741\n",
      "成员 0.22806821098333335\n",
      "支持 0.18803813714\n",
      "----------------------------------------\n",
      " TextRank\n",
      "----------------------------------------\n",
      "重点 1.0\n",
      "大学 0.9635631335578456\n",
      "国家 0.9273412563201143\n",
      "河北省 0.6235965850264276\n",
      "共建 0.5433775103953393\n",
      "全国 0.534102824188907\n",
      "信息化 0.523517756070117\n",
      "北京 0.5018327550761613\n",
      "一流 0.49871940909528095\n",
      "高校 0.4981734275744847\n",
      "支持 0.4341118682412674\n",
      "教育部 0.4010473038202727\n",
      "工业 0.39979771882365184\n",
      "世界 0.38446716337538744\n",
      "工业局 0.3566868934650074\n",
      "成员 0.2684723522599455\n"
     ]
    }
   ],
   "source": [
    "#encoding=utf-8\n",
    "from __future__ import unicode_literals\n",
    "import sys\n",
    "sys.path.append(\"../\")\n",
    "\n",
    "import jieba\n",
    "import jieba.posseg\n",
    "import jieba.analyse\n",
    "\n",
    "\n",
    "print('='*40)\n",
    "print('3. 关键词提取')\n",
    "print('-'*40)\n",
    "print(' TF-IDF')\n",
    "print('-'*40)\n",
    "\n",
    "s = \"燕山大学是河北省人民政府、教育部、工业和信息化部、国家国防科技工业局四方共建的全国重点大学，河北省重点支持的国家一流大学和世界一流学科建设高校，北京高科大学联盟成员。\"\n",
    "for x, w in jieba.analyse.extract_tags(s, withWeight=True):\n",
    "    print('%s %s' % (x, w))\n",
    "\n",
    "print('-'*40)\n",
    "print(' TextRank')\n",
    "print('-'*40)\n",
    "\n",
    "for x, w in jieba.analyse.textrank(s, withWeight=True):\n",
    "    print('%s %s' % (x, w))\n",
    "\n"
   ]
  },
  {
   "cell_type": "code",
   "execution_count": 2,
   "id": "1592e356-caa5-49e3-aa10-6d3a07561445",
   "metadata": {},
   "outputs": [
    {
     "name": "stdout",
     "output_type": "stream",
     "text": [
      "Default Mode: 我/ 叫/ 郑康杰/ ，/ 也/ 可以/ 叫/ 我/ kuriyama\n"
     ]
    }
   ],
   "source": [
    "import jieba\n",
    "seg_list = jieba.cut(\"我叫郑康杰，也可以叫我kuriyama\", cut_all=False)\n",
    "print(\"Default Mode: \" + \"/ \".join(seg_list)) "
   ]
  },
  {
   "cell_type": "code",
   "execution_count": null,
   "id": "a2669f74-7f9a-42a9-a2eb-34b0fb51ba61",
   "metadata": {},
   "outputs": [],
   "source": []
  }
 ],
 "metadata": {
  "kernelspec": {
   "display_name": "Python 3 (ipykernel)",
   "language": "python",
   "name": "python3"
  },
  "language_info": {
   "codemirror_mode": {
    "name": "ipython",
    "version": 3
   },
   "file_extension": ".py",
   "mimetype": "text/x-python",
   "name": "python",
   "nbconvert_exporter": "python",
   "pygments_lexer": "ipython3",
   "version": "3.9.21"
  }
 },
 "nbformat": 4,
 "nbformat_minor": 5
}
